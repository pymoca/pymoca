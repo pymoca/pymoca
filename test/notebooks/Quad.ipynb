{
 "cells": [
  {
   "cell_type": "code",
   "execution_count": 1,
   "metadata": {},
   "outputs": [],
   "source": [
    "%matplotlib inline\n",
    "\n",
    "import sys\n",
    "import pprint\n",
    "import numpy as np\n",
    "import inspect\n",
    "import os\n",
    "import matplotlib.pyplot as plt\n",
    "\n",
    "root_path =  os.path.abspath(os.path.join(os.path.pardir))\n",
    "sys.path.insert(0, root_path)\n",
    "\n",
    "import pymoca.parser\n",
    "import pymoca.backends.sympy.generator as generator\n",
    "import pylab as pl\n",
    "\n",
    "import sympy\n",
    "import sympy.physics.mechanics as mech\n",
    "\n",
    "sympy.init_printing()\n",
    "mech.mechanics_printing()\n",
    "\n",
    "%load_ext autoreload\n",
    "%autoreload 2"
   ]
  },
  {
   "cell_type": "code",
   "execution_count": 2,
   "metadata": {},
   "outputs": [
    {
     "data": {
      "image/png": "[encoded data removed]",
      "text/latex": [
       "$$\\left \\{ \\dot{\\phi} : P + Q \\operatorname{sin}\\left(\\phi\\right) \\operatorname{tan}\\left(\\theta\\right) + R \\operatorname{cos}\\left(\\phi\\right) \\operatorname{tan}\\left(\\theta\\right), \\quad \\dot{\\psi} : \\frac{1}{\\operatorname{cos}\\left(\\theta\\right)} \\left(Q \\operatorname{sin}\\left(\\phi\\right) + R \\operatorname{cos}\\left(\\phi\\right)\\right), \\quad \\dot{\\theta} : Q \\operatorname{cos}\\left(\\phi\\right) - R \\operatorname{sin}\\left(\\phi\\right)\\right \\}$$"
      ],
      "text/plain": [
       "⎧                                               Q⋅sin(φ) + R⋅cos(φ)           \n",
       "⎨φ̇: P + Q⋅sin(φ)⋅tan(θ) + R⋅cos(φ)⋅tan(θ), ψ̇: ───────────────────, θ̇: Q⋅cos\n",
       "⎩                                                      cos(θ)                 \n",
       "\n",
       "              ⎫\n",
       "(φ) - R⋅sin(φ)⎬\n",
       "              ⎭"
      ]
     },
     "execution_count": 2,
     "metadata": {},
     "output_type": "execute_result"
    }
   ],
   "source": [
    "frame_i = mech.ReferenceFrame('i')\n",
    "t = sympy.symbols('t')\n",
    "phi, theta, psi, P, Q, R, x, y, z, U, V, W = mech.dynamicsymbols(\n",
    "    'phi, theta, psi, P, Q, R, x, y, z, U, V, W')\n",
    "frame_b = frame_i.orientnew('b', 'Body', (psi, theta, phi), '321')\n",
    "omega_ib = P*frame_b.x + Q*frame_b.y + R*frame_b.z\n",
    "euler_sol = sympy.solve((frame_b.ang_vel_in(frame_i) - omega_ib).to_matrix(frame_b),\n",
    "            [v.diff(t) for v in [phi, theta, psi]])\n",
    "frame_b.set_ang_vel(frame_i, omega_ib)\n",
    "euler_sol"
   ]
  },
  {
   "cell_type": "code",
   "execution_count": 3,
   "metadata": {},
   "outputs": [],
   "source": [
    "point_o = mech.Point('o')\n",
    "point_cm = point_o.locatenew('cm', x*frame_i.x + y*frame_i.y + z*frame_i.z)\n",
    "point_cm.set_vel(frame_b, 0)\n",
    "M_x, M_y, M_z, F_x, F_y, F_z = mech.dynamicsymbols('M_x, M_y, M_z, F_x, F_y, F_z')\n",
    "M_b = M_x*frame_b.x + M_y*frame_b.y + M_z*frame_b.z\n",
    "F_b = F_x*frame_b.x + F_y*frame_b.y + F_z*frame_b.z\n",
    "V_i = U*frame_b.x + V*frame_b.y + W*frame_b.z\n",
    "point_cm.set_vel(frame_i, V_i)\n",
    "J_x, J_y, J_z, m = sympy.symbols('J_x, J_y, J_z, m')\n",
    "aircraft = mech.RigidBody('aircraft', point_cm,\n",
    "                          frame_b, m,\n",
    "                          (mech.inertia(frame_b, J_x, J_y, J_z), point_cm))"
   ]
  },
  {
   "cell_type": "code",
   "execution_count": 4,
   "metadata": {},
   "outputs": [
    {
     "data": {
      "image/png": "[encoded data removed]",
      "text/latex": [
       "$$\\left[\\begin{matrix}J_{x} \\dot{P} - J_{y} Q \\dot{R} + J_{z} R \\dot{Q} - M_{x}\\\\J_{x} P \\dot{R} + J_{y} \\dot{Q} - J_{z} R \\dot{P} - M_{y}\\\\- J_{x} P \\dot{Q} + J_{y} Q \\dot{P} + J_{z} \\dot{R} - M_{z}\\end{matrix}\\right]$$"
      ],
      "text/plain": [
       "⎡ Jₓ⋅Ṗ - J_y⋅Q⋅Ṙ + J_z⋅R⋅Q̇ - Mₓ ⎤\n",
       "⎢                                  ⎥\n",
       "⎢Jₓ⋅P⋅Ṙ + J_y⋅Q̇ - J_z⋅R⋅Ṗ - M_y ⎥\n",
       "⎢                                  ⎥\n",
       "⎣-Jₓ⋅P⋅Q̇ + J_y⋅Q⋅Ṗ + J_z⋅Ṙ - M_z⎦"
      ]
     },
     "execution_count": 4,
     "metadata": {},
     "output_type": "execute_result"
    }
   ],
   "source": [
    "H_i = aircraft.angular_momentum(point_cm, frame_i)\n",
    "i_H_i = H_i.diff(t, frame_b) + frame_b.ang_acc_in(frame_i).cross(H_i)\n",
    "(i_H_i - M_b).to_matrix(frame_b)"
   ]
  },
  {
   "cell_type": "code",
   "execution_count": 5,
   "metadata": {},
   "outputs": [
    {
     "data": {
      "image/png": "[encoded data removed]",
      "text/latex": [
       "$$\\left[\\begin{matrix}- m V \\dot{R} + m W \\dot{Q} + m \\dot{U} - F_{x}\\\\m U \\dot{R} - m W \\dot{P} + m \\dot{V} - F_{y}\\\\- m U \\dot{Q} + m V \\dot{P} + m \\dot{W} - F_{z}\\end{matrix}\\right]$$"
      ],
      "text/plain": [
       "⎡-m⋅V⋅Ṙ + m⋅W⋅Q̇ + m⋅U̇ - Fₓ ⎤\n",
       "⎢                             ⎥\n",
       "⎢m⋅U⋅Ṙ - m⋅W⋅Ṗ + m⋅V̇ - F_y ⎥\n",
       "⎢                             ⎥\n",
       "⎣-m⋅U⋅Q̇ + m⋅V⋅Ṗ + m⋅Ẇ - F_z⎦"
      ]
     },
     "execution_count": 5,
     "metadata": {},
     "output_type": "execute_result"
    }
   ],
   "source": [
    "L_i = aircraft.linear_momentum(frame_i)\n",
    "i_L_i = L_i.diff(t, frame_b) + frame_b.ang_acc_in(frame_i).cross(L_i)\n",
    "(i_L_i - F_b).to_matrix(frame_b)"
   ]
  },
  {
   "cell_type": "code",
   "execution_count": 6,
   "metadata": {},
   "outputs": [],
   "source": [
    "ast = pymoca.parser.parse('''\n",
    "model Quad\n",
    "    Real F_x, F_y, F_z;\n",
    "    Real M_x, M_y, M_z;\n",
    "    Real phi, theta, psi;\n",
    "    Real P, Q, R;\n",
    "    Real x, y, z;\n",
    "    Real U, V, W;\n",
    "    parameter Real J_x=1, J_y=1, J_z=1, m=1;\n",
    "equation\n",
    "    M_x = -P - phi;\n",
    "    M_y = -Q - theta;\n",
    "    M_z = -R - psi;\n",
    "    F_x = -U -x;\n",
    "    F_y = -V -y;\n",
    "    F_z = -W -z;\n",
    "    der(x) = U;\n",
    "    der(y) = V;\n",
    "    der(z) = W;\n",
    "    -m*V*der(R) + m*W*der(Q) + m*der(U) = F_x;\n",
    "    m*U*der(R) - m*W*der(P) + m*der(V) = F_y;\n",
    "    -m*U*der(Q) + m*V*der(P) + m*der(W) = F_z;\n",
    "    der(phi) = P + Q*sin(phi)*tan(theta) + R*cos(phi)*tan(theta);\n",
    "    der(theta) = Q*cos(phi) - R*sin(phi);\n",
    "    cos(theta)*der(psi) = Q*sin(phi) + R*cos(phi);\n",
    "    J_x*der(P) = M_x;\n",
    "    J_y*der(Q) = M_y;\n",
    "    J_z*der(R) = M_z;\n",
    "end Quad;\n",
    "''')\n",
    "#print(ast)"
   ]
  },
  {
   "cell_type": "code",
   "execution_count": 7,
   "metadata": {},
   "outputs": [
    {
     "name": "stdout",
     "output_type": "stream",
     "text": [
      "\n",
      "# do not edit, generated by pymoca\n",
      "\n",
      "from __future__ import print_function, division\n",
      "import sympy\n",
      "import sympy.physics.mechanics as mech\n",
      "from pymoca.backends.sympy.runtime import OdeModel\n",
      "from sympy import sin, cos, tan\n",
      "\n",
      "\n",
      "class Quad(OdeModel):\n",
      "\n",
      "    def __init__(self):\n",
      "\n",
      "        super(Quad, self).__init__()\n",
      "\n",
      "        # states\n",
      "        phi, theta, psi_, P, Q, R, x, y, z, U, V, W = mech.dynamicsymbols('phi, theta, psi_, P, Q, R, x, y, z, U, V, W')\n",
      "        self.x = sympy.Matrix([phi, theta, psi_, P, Q, R, x, y, z, U, V, W])\n",
      "        self.x0 = {\n",
      "            phi : 0,\n",
      "            theta : 0,\n",
      "            psi_ : 0,\n",
      "            P : 0,\n",
      "            Q : 0,\n",
      "            R : 0,\n",
      "            x : 0,\n",
      "            y : 0,\n",
      "            z : 0,\n",
      "            U : 0,\n",
      "            V : 0,\n",
      "            W : 0,\n",
      "            }\n",
      "\n",
      "        # variables\n",
      "        F_x, F_y, F_z, M_x, M_y, M_z = mech.dynamicsymbols('F_x, F_y, F_z, M_x, M_y, M_z')\n",
      "        self.v = sympy.Matrix([F_x, F_y, F_z, M_x, M_y, M_z])\n",
      "\n",
      "        # constants\n",
      "        self.c = sympy.Matrix([])\n",
      "        self.c0 = {\n",
      "            }\n",
      "\n",
      "        # parameters\n",
      "        J_x, J_y, J_z, m = sympy.symbols('J_x, J_y, J_z, m')\n",
      "        self.p = sympy.Matrix([J_x, J_y, J_z, m])\n",
      "        self.p0 = {\n",
      "            J_x : 1.0,\n",
      "            J_y : 1.0,\n",
      "            J_z : 1.0,\n",
      "            m : 1.0,\n",
      "            }\n",
      "\n",
      "        # inputs\n",
      "        self.u = sympy.Matrix([])\n",
      "        self.u0 = {\n",
      "            }\n",
      "\n",
      "        # outputs\n",
      "        self.y = sympy.Matrix([])\n",
      "\n",
      "        # equations\n",
      "        self.eqs = [\n",
      "            M_x - (- P - phi),\n",
      "            M_y - (- Q - theta),\n",
      "            M_z - (- R - psi_),\n",
      "            F_x - (- U - x),\n",
      "            F_y - (- V - y),\n",
      "            F_z - (- W - z),\n",
      "            (x).diff(self.t) - (U),\n",
      "            (y).diff(self.t) - (V),\n",
      "            (z).diff(self.t) - (W),\n",
      "            - m * V * (R).diff(self.t) + m * W * (Q).diff(self.t) + m * (U).diff(self.t) - (F_x),\n",
      "            m * U * (R).diff(self.t) - m * W * (P).diff(self.t) + m * (V).diff(self.t) - (F_y),\n",
      "            - m * U * (Q).diff(self.t) + m * V * (P).diff(self.t) + m * (W).diff(self.t) - (F_z),\n",
      "            (phi).diff(self.t) - (P + Q * sin(phi) * tan(theta) + R * cos(phi) * tan(theta)),\n",
      "            (theta).diff(self.t) - (Q * cos(phi) - R * sin(phi)),\n",
      "            cos(theta) * (psi_).diff(self.t) - (Q * sin(phi) + R * cos(phi)),\n",
      "            J_x * (P).diff(self.t) - (M_x),\n",
      "            J_y * (Q).diff(self.t) - (M_y),\n",
      "            J_z * (R).diff(self.t) - (M_z),\n",
      "            ]\n",
      "\n",
      "        self.compute_fg()\n"
     ]
    }
   ],
   "source": [
    "quad_src = generator.generate(ast, 'Quad')\n",
    "exec(quad_src)\n",
    "print(quad_src)"
   ]
  },
  {
   "cell_type": "code",
   "execution_count": 8,
   "metadata": {},
   "outputs": [],
   "source": [
    "exec(quad_src)\n",
    "quad = Quad()"
   ]
  },
  {
   "cell_type": "code",
   "execution_count": 9,
   "metadata": {},
   "outputs": [],
   "source": [
    "res = quad.simulate(x0 = [0,0,0, 1,2,3, 0, 0, 0, 1, 0, 0], tf=20)"
   ]
  },
  {
   "cell_type": "code",
   "execution_count": 10,
   "metadata": {},
   "outputs": [
    {
     "data": {
      "image/png": "[encoded data removed]",
      "text/plain": [
       "<matplotlib.figure.Figure at 0x7f54bfd70be0>"
      ]
     },
     "metadata": {},
     "output_type": "display_data"
    }
   ],
   "source": [
    "plt.plot(res['t'], res['x']);\n",
    "plt.grid()"
   ]
  },
  {
   "cell_type": "code",
   "execution_count": 11,
   "metadata": {},
   "outputs": [
    {
     "data": {
      "image/png": "[encoded data removed]",
      "text/latex": [
       "$$\\frac{J_{x} P^{2}}{2} + \\frac{J_{y} Q^{2}}{2} + \\frac{J_{z} R^{2}}{2} + \\frac{m}{2} \\left(U^{2} + V^{2} + W^{2}\\right) + \\frac{\\phi^{2}}{2} + \\frac{\\psi^{2}}{2} + \\frac{\\theta^{2}}{2} + \\frac{x^{2}}{2} + \\frac{y^{2}}{2} + \\frac{z^{2}}{2}$$"
      ],
      "text/plain": [
       "    2        2        2     ⎛ 2    2    2⎞    2    2    2    2    2    2\n",
       "Jₓ⋅P    J_y⋅Q    J_z⋅R    m⋅⎝U  + V  + W ⎠   φ    ψ    θ    x    y    z \n",
       "───── + ────── + ────── + ──────────────── + ── + ── + ── + ── + ── + ──\n",
       "  2       2        2             2           2    2    2    2    2    2 "
      ]
     },
     "execution_count": 11,
     "metadata": {},
     "output_type": "execute_result"
    }
   ],
   "source": [
    "v_x, v_y, v_z, x, y, z = sympy.physics.mechanics.dynamicsymbols('v_x, v_y, v_z, x, y, z')\n",
    "m, g = sympy.symbols('m, g')\n",
    "Lyap = aircraft.kinetic_energy(frame_i) + phi**2/2 + theta**2/2 + psi**2/2 + \\\n",
    "    x**2/2 + y**2/2 + z**2/2\n",
    "Lyap"
   ]
  },
  {
   "cell_type": "code",
   "execution_count": 12,
   "metadata": {},
   "outputs": [
    {
     "data": {
      "image/png": "[encoded data removed]",
      "text/latex": [
       "$$\\left(\\phi \\operatorname{sin}\\left(\\phi\\right) \\operatorname{tan}\\left(\\theta\\right) + \\theta \\operatorname{cos}\\left(\\phi\\right) - \\theta\\right) Q + \\left(\\phi \\operatorname{cos}\\left(\\phi\\right) \\operatorname{tan}\\left(\\theta\\right) - \\psi_{} - \\theta \\operatorname{sin}\\left(\\phi\\right)\\right) R - P^{2} - Q^{2} - R^{2} - U^{2} - V^{2} - W^{2}$$"
      ],
      "text/plain": [
       "                                                                           2  \n",
       "(φ⋅sin(φ)⋅tan(θ) + θ⋅cos(φ) - θ)⋅Q + (φ⋅cos(φ)⋅tan(θ) - ψ - θ⋅sin(φ))⋅R - P  -\n",
       "\n",
       "  2    2    2    2    2\n",
       " Q  - R  - U  - V  - W "
      ]
     },
     "execution_count": 12,
     "metadata": {},
     "output_type": "execute_result"
    }
   ],
   "source": [
    "LyapDot = sympy.Matrix([Lyap]).jacobian(quad.x).dot(quad.f).expand().simplify()\n",
    "LyapDot = LyapDot.expand().collect([P, Q, R, U, V, W], sympy.factor)\n",
    "LyapDot"
   ]
  }
 ],
 "metadata": {
  "kernelspec": {
   "display_name": "Python 3",
   "language": "python",
   "name": "python3"
  },
  "language_info": {
   "codemirror_mode": {
    "name": "ipython",
    "version": 3
   },
   "file_extension": ".py",
   "mimetype": "text/x-python",
   "name": "python",
   "nbconvert_exporter": "python",
   "pygments_lexer": "ipython3",
   "version": "3.6.3"
  },
  "name": ""
 },
 "nbformat": 4,
 "nbformat_minor": 1
}
