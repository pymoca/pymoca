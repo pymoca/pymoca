{
 "cells": [
  {
   "cell_type": "code",
   "execution_count": 1,
   "metadata": {},
   "outputs": [
    {
     "name": "stdout",
     "output_type": "stream",
     "text": [
      "The autoreload extension is already loaded. To reload it, use:\n",
      "  %reload_ext autoreload\n"
     ]
    }
   ],
   "source": [
    "%load_ext autoreload\n",
    "%autoreload 2\n",
    "    \n",
    "import sys\n",
    "import pylab as pl\n",
    "sys.path.insert(0, '..')\n",
    "\n",
    "import pymoca.parser\n",
    "import pymoca.backends.sympy.generator as generator\n",
    "import pylab as pl\n",
    "import sympy\n",
    "import control\n",
    "sympy.init_printing()\n",
    "%load_ext autoreload\n",
    "\n",
    "%autoreload 2\n",
    "%matplotlib inline"
   ]
  },
  {
   "cell_type": "markdown",
   "metadata": {},
   "source": [
    "# Modelica Source Code"
   ]
  },
  {
   "cell_type": "code",
   "execution_count": 2,
   "metadata": {},
   "outputs": [],
   "source": [
    "modelica_src = '''\n",
    "\n",
    "model System\n",
    "    input Real u;\n",
    "    output Real x(start=1), v_x(start=1);\n",
    "    Spring spring;\n",
    "    Damper damper;\n",
    "equation\n",
    "    spring.x = x;\n",
    "    damper.v = v_x;\n",
    "    der(x) = v_x;\n",
    "    der(v_x) = spring.f + damper.f - u;\n",
    "end System;\n",
    "\n",
    "model Spring\n",
    "    Real x \"displacement\";\n",
    "    Real f \"force\";\n",
    "    parameter Real k = 2.0 \"spring constant\";\n",
    "equation\n",
    "    f = -k*x;\n",
    "end Spring;\n",
    "\n",
    "model Damper\n",
    "    Real v \"velocity\";\n",
    "    Real f \"force\";\n",
    "    parameter Real c = 0.2 \"damping constant\";\n",
    "equation\n",
    "    f = -c*v;\n",
    "end Damper;\n",
    "'''"
   ]
  },
  {
   "cell_type": "markdown",
   "metadata": {},
   "source": [
    "# Generation of Abstract Syntax Tree"
   ]
  },
  {
   "cell_type": "code",
   "execution_count": 30,
   "metadata": {},
   "outputs": [
    {
     "data": {
      "text/plain": [
       "odict_keys(['u', 'x', 'v_x', 'spring', 'damper'])"
      ]
     },
     "execution_count": 30,
     "metadata": {},
     "output_type": "execute_result"
    }
   ],
   "source": [
    "ast = pymoca.parser.parse(modelica_src)\n",
    "ast.classes['System'].symbols.keys()"
   ]
  },
  {
   "cell_type": "code",
   "execution_count": 32,
   "metadata": {},
   "outputs": [
    {
     "data": {
      "text/plain": [
       "{\n",
       "  \"annotation\": [],\n",
       "  \"classes\": {\n",
       "    \"Damper\": {\n",
       "      \"annotation\": [],\n",
       "      \"classes\": {},\n",
       "      \"comment\": \"\",\n",
       "      \"encapsulated\": false,\n",
       "      \"equations\": [\n",
       "        {\n",
       "          \"comment\": \"\",\n",
       "          \"left\": {\n",
       "            \"child\": [],\n",
       "            \"indices\": [],\n",
       "            \"name\": \"f\"\n",
       "          },\n",
       "          \"right\": {\n",
       "            \"operands\": [\n",
       "              {\n",
       "                \"operands\": [\n",
       "                  {\n",
       "                    \"child\": [],\n",
       "                    \"indices\": [],\n",
       "                    \"name\": \"c\"\n",
       "                  }\n",
       "                ],\n",
       "                \"operator\": \"-\"\n",
       "              },\n",
       "              {\n",
       "                \"child\": [],\n",
       "                \"indices\": [],\n",
       "                \"name\": \"v\"\n",
       "              }\n",
       "            ],\n",
       "            \"operator\": \"*\"\n",
       "          }\n",
       "        }\n",
       "      ],\n",
       "      \"extends\": [],\n",
       "      \"final\": false,\n",
       "      \"functions\": {},\n",
       "      \"imports\": [],\n",
       "      \"initial_equations\": [],\n",
       "      \"initial_statements\": [],\n",
       "      \"name\": \"Damper\",\n",
       "      \"partial\": false,\n",
       "      \"statements\": [],\n",
       "      \"symbols\": {\n",
       "        \"c\": {\n",
       "          \"class_modification\": {\n",
       "            \"arguments\": [\n",
       "              {\n",
       "                \"redeclare\": false,\n",
       "                \"value\": {\n",
       "                  \"component\": {\n",
       "                    \"child\": [],\n",
       "                    \"indices\": [],\n",
       "                    \"name\": \"value\"\n",
       "                  },\n",
       "                  \"modifications\": [\n",
       "                    {\n",
       "                      \"value\": 0.2\n",
       "                    }\n",
       "                  ]\n",
       "                }\n",
       "              }\n",
       "            ]\n",
       "          },\n",
       "          \"comment\": \"damping constant\",\n",
       "          \"dimensions\": [\n",
       "            {\n",
       "              \"value\": 1\n",
       "            }\n",
       "          ],\n",
       "          \"final\": false,\n",
       "          \"fixed\": {\n",
       "            \"value\": false\n",
       "          },\n",
       "          \"id\": 0,\n",
       "          \"inner\": false,\n",
       "          \"max\": {\n",
       "            \"value\": null\n",
       "          },\n",
       "          \"min\": {\n",
       "            \"value\": null\n",
       "          },\n",
       "          \"name\": \"c\",\n",
       "          \"nominal\": {\n",
       "            \"value\": null\n",
       "          },\n",
       "          \"order\": 10,\n",
       "          \"outer\": false,\n",
       "          \"prefixes\": [\n",
       "            \"parameter\"\n",
       "          ],\n",
       "          \"redeclare\": false,\n",
       "          \"start\": {\n",
       "            \"value\": 0\n",
       "          },\n",
       "          \"type\": {\n",
       "            \"child\": [],\n",
       "            \"indices\": [],\n",
       "            \"name\": \"Real\"\n",
       "          },\n",
       "          \"value\": {\n",
       "            \"value\": null\n",
       "          },\n",
       "          \"visibility\": \"private\"\n",
       "        },\n",
       "        \"f\": {\n",
       "          \"class_modification\": null,\n",
       "          \"comment\": \"force\",\n",
       "          \"dimensions\": [\n",
       "            {\n",
       "              \"value\": 1\n",
       "            }\n",
       "          ],\n",
       "          \"final\": false,\n",
       "          \"fixed\": {\n",
       "            \"value\": false\n",
       "          },\n",
       "          \"id\": 0,\n",
       "          \"inner\": false,\n",
       "          \"max\": {\n",
       "            \"value\": null\n",
       "          },\n",
       "          \"min\": {\n",
       "            \"value\": null\n",
       "          },\n",
       "          \"name\": \"f\",\n",
       "          \"nominal\": {\n",
       "            \"value\": null\n",
       "          },\n",
       "          \"order\": 9,\n",
       "          \"outer\": false,\n",
       "          \"prefixes\": [],\n",
       "          \"redeclare\": false,\n",
       "          \"start\": {\n",
       "            \"value\": 0\n",
       "          },\n",
       "          \"type\": {\n",
       "            \"child\": [],\n",
       "            \"indices\": [],\n",
       "            \"name\": \"Real\"\n",
       "          },\n",
       "          \"value\": {\n",
       "            \"value\": null\n",
       "          },\n",
       "          \"visibility\": \"private\"\n",
       "        },\n",
       "        \"v\": {\n",
       "          \"class_modification\": null,\n",
       "          \"comment\": \"velocity\",\n",
       "          \"dimensions\": [\n",
       "            {\n",
       "              \"value\": 1\n",
       "            }\n",
       "          ],\n",
       "          \"final\": false,\n",
       "          \"fixed\": {\n",
       "            \"value\": false\n",
       "          },\n",
       "          \"id\": 0,\n",
       "          \"inner\": false,\n",
       "          \"max\": {\n",
       "            \"value\": null\n",
       "          },\n",
       "          \"min\": {\n",
       "            \"value\": null\n",
       "          },\n",
       "          \"name\": \"v\",\n",
       "          \"nominal\": {\n",
       "            \"value\": null\n",
       "          },\n",
       "          \"order\": 8,\n",
       "          \"outer\": false,\n",
       "          \"prefixes\": [],\n",
       "          \"redeclare\": false,\n",
       "          \"start\": {\n",
       "            \"value\": 0\n",
       "          },\n",
       "          \"type\": {\n",
       "            \"child\": [],\n",
       "            \"indices\": [],\n",
       "            \"name\": \"Real\"\n",
       "          },\n",
       "          \"value\": {\n",
       "            \"value\": null\n",
       "          },\n",
       "          \"visibility\": \"private\"\n",
       "        }\n",
       "      },\n",
       "      \"type\": \"model\"\n",
       "    },\n",
       "    \"Spring\": {\n",
       "      \"annotation\": [],\n",
       "      \"classes\": {},\n",
       "      \"comment\": \"\",\n",
       "      \"encapsulated\": false,\n",
       "      \"equations\": [\n",
       "        {\n",
       "          \"comment\": \"\",\n",
       "          \"left\": {\n",
       "            \"child\": [],\n",
       "            \"indices\": [],\n",
       "            \"name\": \"f\"\n",
       "          },\n",
       "          \"right\": {\n",
       "            \"operands\": [\n",
       "              {\n",
       "                \"operands\": [\n",
       "                  {\n",
       "                    \"child\": [],\n",
       "                    \"indices\": [],\n",
       "                    \"name\": \"k\"\n",
       "                  }\n",
       "                ],\n",
       "                \"operator\": \"-\"\n",
       "              },\n",
       "              {\n",
       "                \"child\": [],\n",
       "                \"indices\": [],\n",
       "                \"name\": \"x\"\n",
       "              }\n",
       "            ],\n",
       "            \"operator\": \"*\"\n",
       "          }\n",
       "        }\n",
       "      ],\n",
       "      \"extends\": [],\n",
       "      \"final\": false,\n",
       "      \"functions\": {},\n",
       "      \"imports\": [],\n",
       "      \"initial_equations\": [],\n",
       "      \"initial_statements\": [],\n",
       "      \"name\": \"Spring\",\n",
       "      \"partial\": false,\n",
       "      \"statements\": [],\n",
       "      \"symbols\": {\n",
       "        \"f\": {\n",
       "          \"class_modification\": null,\n",
       "          \"comment\": \"force\",\n",
       "          \"dimensions\": [\n",
       "            {\n",
       "              \"value\": 1\n",
       "            }\n",
       "          ],\n",
       "          \"final\": false,\n",
       "          \"fixed\": {\n",
       "            \"value\": false\n",
       "          },\n",
       "          \"id\": 0,\n",
       "          \"inner\": false,\n",
       "          \"max\": {\n",
       "            \"value\": null\n",
       "          },\n",
       "          \"min\": {\n",
       "            \"value\": null\n",
       "          },\n",
       "          \"name\": \"f\",\n",
       "          \"nominal\": {\n",
       "            \"value\": null\n",
       "          },\n",
       "          \"order\": 6,\n",
       "          \"outer\": false,\n",
       "          \"prefixes\": [],\n",
       "          \"redeclare\": false,\n",
       "          \"start\": {\n",
       "            \"value\": 0\n",
       "          },\n",
       "          \"type\": {\n",
       "            \"child\": [],\n",
       "            \"indices\": [],\n",
       "            \"name\": \"Real\"\n",
       "          },\n",
       "          \"value\": {\n",
       "            \"value\": null\n",
       "          },\n",
       "          \"visibility\": \"private\"\n",
       "        },\n",
       "        \"k\": {\n",
       "          \"class_modification\": {\n",
       "            \"arguments\": [\n",
       "              {\n",
       "                \"redeclare\": false,\n",
       "                \"value\": {\n",
       "                  \"component\": {\n",
       "                    \"child\": [],\n",
       "                    \"indices\": [],\n",
       "                    \"name\": \"value\"\n",
       "                  },\n",
       "                  \"modifications\": [\n",
       "                    {\n",
       "                      \"value\": 2.0\n",
       "                    }\n",
       "                  ]\n",
       "                }\n",
       "              }\n",
       "            ]\n",
       "          },\n",
       "          \"comment\": \"spring constant\",\n",
       "          \"dimensions\": [\n",
       "            {\n",
       "              \"value\": 1\n",
       "            }\n",
       "          ],\n",
       "          \"final\": false,\n",
       "          \"fixed\": {\n",
       "            \"value\": false\n",
       "          },\n",
       "          \"id\": 0,\n",
       "          \"inner\": false,\n",
       "          \"max\": {\n",
       "            \"value\": null\n",
       "          },\n",
       "          \"min\": {\n",
       "            \"value\": null\n",
       "          },\n",
       "          \"name\": \"k\",\n",
       "          \"nominal\": {\n",
       "            \"value\": null\n",
       "          },\n",
       "          \"order\": 7,\n",
       "          \"outer\": false,\n",
       "          \"prefixes\": [\n",
       "            \"parameter\"\n",
       "          ],\n",
       "          \"redeclare\": false,\n",
       "          \"start\": {\n",
       "            \"value\": 0\n",
       "          },\n",
       "          \"type\": {\n",
       "            \"child\": [],\n",
       "            \"indices\": [],\n",
       "            \"name\": \"Real\"\n",
       "          },\n",
       "          \"value\": {\n",
       "            \"value\": null\n",
       "          },\n",
       "          \"visibility\": \"private\"\n",
       "        },\n",
       "        \"x\": {\n",
       "          \"class_modification\": null,\n",
       "          \"comment\": \"displacement\",\n",
       "          \"dimensions\": [\n",
       "            {\n",
       "              \"value\": 1\n",
       "            }\n",
       "          ],\n",
       "          \"final\": false,\n",
       "          \"fixed\": {\n",
       "            \"value\": false\n",
       "          },\n",
       "          \"id\": 0,\n",
       "          \"inner\": false,\n",
       "          \"max\": {\n",
       "            \"value\": null\n",
       "          },\n",
       "          \"min\": {\n",
       "            \"value\": null\n",
       "          },\n",
       "          \"name\": \"x\",\n",
       "          \"nominal\": {\n",
       "            \"value\": null\n",
       "          },\n",
       "          \"order\": 5,\n",
       "          \"outer\": false,\n",
       "          \"prefixes\": [],\n",
       "          \"redeclare\": false,\n",
       "          \"start\": {\n",
       "            \"value\": 0\n",
       "          },\n",
       "          \"type\": {\n",
       "            \"child\": [],\n",
       "            \"indices\": [],\n",
       "            \"name\": \"Real\"\n",
       "          },\n",
       "          \"value\": {\n",
       "            \"value\": null\n",
       "          },\n",
       "          \"visibility\": \"private\"\n",
       "        }\n",
       "      },\n",
       "      \"type\": \"model\"\n",
       "    },\n",
       "    \"System\": {\n",
       "      \"annotation\": [],\n",
       "      \"classes\": {},\n",
       "      \"comment\": \"\",\n",
       "      \"encapsulated\": false,\n",
       "      \"equations\": [\n",
       "        {\n",
       "          \"comment\": \"\",\n",
       "          \"left\": {\n",
       "            \"child\": [\n",
       "              {\n",
       "                \"child\": [],\n",
       "                \"indices\": [],\n",
       "                \"name\": \"x\"\n",
       "              }\n",
       "            ],\n",
       "            \"indices\": [],\n",
       "            \"name\": \"spring\"\n",
       "          },\n",
       "          \"right\": {\n",
       "            \"child\": [],\n",
       "            \"indices\": [],\n",
       "            \"name\": \"x\"\n",
       "          }\n",
       "        },\n",
       "        {\n",
       "          \"comment\": \"\",\n",
       "          \"left\": {\n",
       "            \"child\": [\n",
       "              {\n",
       "                \"child\": [],\n",
       "                \"indices\": [],\n",
       "                \"name\": \"v\"\n",
       "              }\n",
       "            ],\n",
       "            \"indices\": [],\n",
       "            \"name\": \"damper\"\n",
       "          },\n",
       "          \"right\": {\n",
       "            \"child\": [],\n",
       "            \"indices\": [],\n",
       "            \"name\": \"v_x\"\n",
       "          }\n",
       "        },\n",
       "        {\n",
       "          \"comment\": \"\",\n",
       "          \"left\": {\n",
       "            \"operands\": [\n",
       "              {\n",
       "                \"child\": [],\n",
       "                \"indices\": [],\n",
       "                \"name\": \"x\"\n",
       "              }\n",
       "            ],\n",
       "            \"operator\": \"der\"\n",
       "          },\n",
       "          \"right\": {\n",
       "            \"child\": [],\n",
       "            \"indices\": [],\n",
       "            \"name\": \"v_x\"\n",
       "          }\n",
       "        },\n",
       "        {\n",
       "          \"comment\": \"\",\n",
       "          \"left\": {\n",
       "            \"operands\": [\n",
       "              {\n",
       "                \"child\": [],\n",
       "                \"indices\": [],\n",
       "                \"name\": \"v_x\"\n",
       "              }\n",
       "            ],\n",
       "            \"operator\": \"der\"\n",
       "          },\n",
       "          \"right\": {\n",
       "            \"operands\": [\n",
       "              {\n",
       "                \"operands\": [\n",
       "                  {\n",
       "                    \"child\": [\n",
       "                      {\n",
       "                        \"child\": [],\n",
       "                        \"indices\": [],\n",
       "                        \"name\": \"f\"\n",
       "                      }\n",
       "                    ],\n",
       "                    \"indices\": [],\n",
       "                    \"name\": \"spring\"\n",
       "                  },\n",
       "                  {\n",
       "                    \"child\": [\n",
       "                      {\n",
       "                        \"child\": [],\n",
       "                        \"indices\": [],\n",
       "                        \"name\": \"f\"\n",
       "                      }\n",
       "                    ],\n",
       "                    \"indices\": [],\n",
       "                    \"name\": \"damper\"\n",
       "                  }\n",
       "                ],\n",
       "                \"operator\": \"+\"\n",
       "              },\n",
       "              {\n",
       "                \"child\": [],\n",
       "                \"indices\": [],\n",
       "                \"name\": \"u\"\n",
       "              }\n",
       "            ],\n",
       "            \"operator\": \"-\"\n",
       "          }\n",
       "        }\n",
       "      ],\n",
       "      \"extends\": [],\n",
       "      \"final\": false,\n",
       "      \"functions\": {},\n",
       "      \"imports\": [],\n",
       "      \"initial_equations\": [],\n",
       "      \"initial_statements\": [],\n",
       "      \"name\": \"System\",\n",
       "      \"partial\": false,\n",
       "      \"statements\": [],\n",
       "      \"symbols\": {\n",
       "        \"damper\": {\n",
       "          \"class_modification\": null,\n",
       "          \"comment\": \"\",\n",
       "          \"dimensions\": [\n",
       "            {\n",
       "              \"value\": 1\n",
       "            }\n",
       "          ],\n",
       "          \"final\": false,\n",
       "          \"fixed\": {\n",
       "            \"value\": false\n",
       "          },\n",
       "          \"id\": 0,\n",
       "          \"inner\": false,\n",
       "          \"max\": {\n",
       "            \"value\": null\n",
       "          },\n",
       "          \"min\": {\n",
       "            \"value\": null\n",
       "          },\n",
       "          \"name\": \"damper\",\n",
       "          \"nominal\": {\n",
       "            \"value\": null\n",
       "          },\n",
       "          \"order\": 4,\n",
       "          \"outer\": false,\n",
       "          \"prefixes\": [],\n",
       "          \"redeclare\": false,\n",
       "          \"start\": {\n",
       "            \"value\": 0\n",
       "          },\n",
       "          \"type\": {\n",
       "            \"child\": [],\n",
       "            \"indices\": [],\n",
       "            \"name\": \"Damper\"\n",
       "          },\n",
       "          \"value\": {\n",
       "            \"value\": null\n",
       "          },\n",
       "          \"visibility\": \"private\"\n",
       "        },\n",
       "        \"spring\": {\n",
       "          \"class_modification\": null,\n",
       "          \"comment\": \"\",\n",
       "          \"dimensions\": [\n",
       "            {\n",
       "              \"value\": 1\n",
       "            }\n",
       "          ],\n",
       "          \"final\": false,\n",
       "          \"fixed\": {\n",
       "            \"value\": false\n",
       "          },\n",
       "          \"id\": 0,\n",
       "          \"inner\": false,\n",
       "          \"max\": {\n",
       "            \"value\": null\n",
       "          },\n",
       "          \"min\": {\n",
       "            \"value\": null\n",
       "          },\n",
       "          \"name\": \"spring\",\n",
       "          \"nominal\": {\n",
       "            \"value\": null\n",
       "          },\n",
       "          \"order\": 3,\n",
       "          \"outer\": false,\n",
       "          \"prefixes\": [],\n",
       "          \"redeclare\": false,\n",
       "          \"start\": {\n",
       "            \"value\": 0\n",
       "          },\n",
       "          \"type\": {\n",
       "            \"child\": [],\n",
       "            \"indices\": [],\n",
       "            \"name\": \"Spring\"\n",
       "          },\n",
       "          \"value\": {\n",
       "            \"value\": null\n",
       "          },\n",
       "          \"visibility\": \"private\"\n",
       "        },\n",
       "        \"u\": {\n",
       "          \"class_modification\": null,\n",
       "          \"comment\": \"\",\n",
       "          \"dimensions\": [\n",
       "            {\n",
       "              \"value\": 1\n",
       "            }\n",
       "          ],\n",
       "          \"final\": false,\n",
       "          \"fixed\": {\n",
       "            \"value\": false\n",
       "          },\n",
       "          \"id\": 0,\n",
       "          \"inner\": false,\n",
       "          \"max\": {\n",
       "            \"value\": null\n",
       "          },\n",
       "          \"min\": {\n",
       "            \"value\": null\n",
       "          },\n",
       "          \"name\": \"u\",\n",
       "          \"nominal\": {\n",
       "            \"value\": null\n",
       "          },\n",
       "          \"order\": 0,\n",
       "          \"outer\": false,\n",
       "          \"prefixes\": [\n",
       "            \"input\"\n",
       "          ],\n",
       "          \"redeclare\": false,\n",
       "          \"start\": {\n",
       "            \"value\": 0\n",
       "          },\n",
       "          \"type\": {\n",
       "            \"child\": [],\n",
       "            \"indices\": [],\n",
       "            \"name\": \"Real\"\n",
       "          },\n",
       "          \"value\": {\n",
       "            \"value\": null\n",
       "          },\n",
       "          \"visibility\": \"private\"\n",
       "        },\n",
       "        \"v_x\": {\n",
       "          \"class_modification\": {\n",
       "            \"arguments\": [\n",
       "              {\n",
       "                \"redeclare\": false,\n",
       "                \"value\": {\n",
       "                  \"component\": {\n",
       "                    \"child\": [],\n",
       "                    \"indices\": [],\n",
       "                    \"name\": \"start\"\n",
       "                  },\n",
       "                  \"modifications\": [\n",
       "                    {\n",
       "                      \"value\": 1.0\n",
       "                    }\n",
       "                  ]\n",
       "                }\n",
       "              }\n",
       "            ]\n",
       "          },\n",
       "          \"comment\": \"\",\n",
       "          \"dimensions\": [\n",
       "            {\n",
       "              \"value\": 1\n",
       "            }\n",
       "          ],\n",
       "          \"final\": false,\n",
       "          \"fixed\": {\n",
       "            \"value\": false\n",
       "          },\n",
       "          \"id\": 0,\n",
       "          \"inner\": false,\n",
       "          \"max\": {\n",
       "            \"value\": null\n",
       "          },\n",
       "          \"min\": {\n",
       "            \"value\": null\n",
       "          },\n",
       "          \"name\": \"v_x\",\n",
       "          \"nominal\": {\n",
       "            \"value\": null\n",
       "          },\n",
       "          \"order\": 2,\n",
       "          \"outer\": false,\n",
       "          \"prefixes\": [\n",
       "            \"output\"\n",
       "          ],\n",
       "          \"redeclare\": false,\n",
       "          \"start\": {\n",
       "            \"value\": 0\n",
       "          },\n",
       "          \"type\": {\n",
       "            \"child\": [],\n",
       "            \"indices\": [],\n",
       "            \"name\": \"Real\"\n",
       "          },\n",
       "          \"value\": {\n",
       "            \"value\": null\n",
       "          },\n",
       "          \"visibility\": \"private\"\n",
       "        },\n",
       "        \"x\": {\n",
       "          \"class_modification\": {\n",
       "            \"arguments\": [\n",
       "              {\n",
       "                \"redeclare\": false,\n",
       "                \"value\": {\n",
       "                  \"component\": {\n",
       "                    \"child\": [],\n",
       "                    \"indices\": [],\n",
       "                    \"name\": \"start\"\n",
       "                  },\n",
       "                  \"modifications\": [\n",
       "                    {\n",
       "                      \"value\": 1.0\n",
       "                    }\n",
       "                  ]\n",
       "                }\n",
       "              }\n",
       "            ]\n",
       "          },\n",
       "          \"comment\": \"\",\n",
       "          \"dimensions\": [\n",
       "            {\n",
       "              \"value\": 1\n",
       "            }\n",
       "          ],\n",
       "          \"final\": false,\n",
       "          \"fixed\": {\n",
       "            \"value\": false\n",
       "          },\n",
       "          \"id\": 0,\n",
       "          \"inner\": false,\n",
       "          \"max\": {\n",
       "            \"value\": null\n",
       "          },\n",
       "          \"min\": {\n",
       "            \"value\": null\n",
       "          },\n",
       "          \"name\": \"x\",\n",
       "          \"nominal\": {\n",
       "            \"value\": null\n",
       "          },\n",
       "          \"order\": 1,\n",
       "          \"outer\": false,\n",
       "          \"prefixes\": [\n",
       "            \"output\"\n",
       "          ],\n",
       "          \"redeclare\": false,\n",
       "          \"start\": {\n",
       "            \"value\": 0\n",
       "          },\n",
       "          \"type\": {\n",
       "            \"child\": [],\n",
       "            \"indices\": [],\n",
       "            \"name\": \"Real\"\n",
       "          },\n",
       "          \"value\": {\n",
       "            \"value\": null\n",
       "          },\n",
       "          \"visibility\": \"private\"\n",
       "        }\n",
       "      },\n",
       "      \"type\": \"model\"\n",
       "    }\n",
       "  },\n",
       "  \"comment\": \"\",\n",
       "  \"encapsulated\": false,\n",
       "  \"equations\": [],\n",
       "  \"extends\": [],\n",
       "  \"final\": false,\n",
       "  \"functions\": {},\n",
       "  \"imports\": [],\n",
       "  \"initial_equations\": [],\n",
       "  \"initial_statements\": [],\n",
       "  \"name\": null,\n",
       "  \"partial\": false,\n",
       "  \"statements\": [],\n",
       "  \"symbols\": {},\n",
       "  \"type\": \"\"\n",
       "}"
      ]
     },
     "execution_count": 32,
     "metadata": {},
     "output_type": "execute_result"
    }
   ],
   "source": [
    "ast"
   ]
  },
  {
   "cell_type": "markdown",
   "metadata": {},
   "source": [
    "# Generation of Sympy Model"
   ]
  },
  {
   "cell_type": "code",
   "execution_count": 7,
   "metadata": {
    "scrolled": true
   },
   "outputs": [
    {
     "name": "stdout",
     "output_type": "stream",
     "text": [
      "\n",
      "# do not edit, generated by pymoca\n",
      "\n",
      "from __future__ import print_function, division\n",
      "import sympy\n",
      "import sympy.physics.mechanics as mech\n",
      "from pymoca.backends.sympy.runtime import OdeModel\n",
      "from sympy import sin, cos, tan\n",
      "\n",
      "\n",
      "class System(OdeModel):\n",
      "\n",
      "    def __init__(self):\n",
      "\n",
      "        super(System, self).__init__()\n",
      "\n",
      "        # states\n",
      "        x, v_x = mech.dynamicsymbols('x, v_x')\n",
      "        self.x = sympy.Matrix([x, v_x])\n",
      "        self.x0 = {\n",
      "            x : 1.0,\n",
      "            v_x : 1.0,\n",
      "            }\n",
      "\n",
      "        # variables\n",
      "        spring__x, spring__f, damper__v, damper__f = mech.dynamicsymbols('spring.x, spring.f, damper.v, damper.f')\n",
      "        self.v = sympy.Matrix([spring__x, spring__f, damper__v, damper__f])\n",
      "\n",
      "        # constants\n",
      "        self.c = sympy.Matrix([])\n",
      "        self.c0 = {\n",
      "            }\n",
      "\n",
      "        # parameters\n",
      "        spring__k, damper__c = sympy.symbols('spring.k, damper.c')\n",
      "        self.p = sympy.Matrix([spring__k, damper__c])\n",
      "        self.p0 = {\n",
      "            spring__k : 2.0,\n",
      "            damper__c : 0.2,\n",
      "            }\n",
      "\n",
      "        # inputs\n",
      "        u = mech.dynamicsymbols('u')\n",
      "        self.u = sympy.Matrix([u])\n",
      "        self.u0 = {\n",
      "            u : 0,\n",
      "            }\n",
      "\n",
      "        # outputs\n",
      "        x, v_x = mech.dynamicsymbols('x, v_x')\n",
      "        self.y = sympy.Matrix([x, v_x])\n",
      "\n",
      "        # equations\n",
      "        self.eqs = [\n",
      "            spring__f - (- spring__k * spring__x),\n",
      "            damper__f - (- damper__c * damper__v),\n",
      "            spring__x - (x),\n",
      "            damper__v - (v_x),\n",
      "            (x).diff(self.t) - (v_x),\n",
      "            (v_x).diff(self.t) - (spring__f + damper__f - u),\n",
      "            ]\n",
      "\n",
      "        self.compute_fg()\n"
     ]
    }
   ],
   "source": [
    "src_code = generator.generate(ast, 'System')\n",
    "print(src_code)"
   ]
  },
  {
   "cell_type": "code",
   "execution_count": 8,
   "metadata": {},
   "outputs": [
    {
     "data": {
      "text/plain": [
       "{'t': t, 'x': Matrix([\n",
       "[  x(t)],\n",
       "[v_x(t)]]), 'u': Matrix([[u(t)]]), 'y': Matrix([\n",
       "[  x(t)],\n",
       "[v_x(t)]]), 'p': Matrix([\n",
       "[spring.k],\n",
       "[damper.c]]), 'c': Matrix(0, 0, []), 'v': Matrix([\n",
       "[spring.x(t)],\n",
       "[spring.f(t)],\n",
       "[damper.v(t)],\n",
       "[damper.f(t)]]), 'x0': {x(t): 1.0, v_x(t): 1.0}, 'u0': {u(t): 0}, 'p0': {spring.k: 2.0, damper.c: 0.2}, 'c0': {}, 'eqs': [spring.k*spring.x(t) + spring.f(t), damper.c*damper.v(t) + damper.f(t), spring.x(t) - x(t), damper.v(t) - v_x(t), -v_x(t) + Derivative(x(t), t), -damper.f(t) - spring.f(t) + u(t) + Derivative(v_x(t), t)], 'f': Matrix([\n",
       "[                                 v_x(t)],\n",
       "[-damper.c*v_x(t) - spring.k*x(t) - u(t)]]), 'g': Matrix([\n",
       "[  x(t)],\n",
       "[v_x(t)]])}"
      ]
     },
     "execution_count": 8,
     "metadata": {},
     "output_type": "execute_result"
    }
   ],
   "source": [
    "exec(src_code)\n",
    "model = System()\n",
    "model"
   ]
  },
  {
   "cell_type": "code",
   "execution_count": 9,
   "metadata": {},
   "outputs": [
    {
     "data": {
      "image/png": "[encoded data removed]",
      "text/latex": [
       "$$\\left[\\begin{matrix}\\frac{d}{d t} x{\\left (t \\right )}\\\\\\frac{d}{d t} \\operatorname{v_{x}}{\\left (t \\right )}\\end{matrix}\\right]$$"
      ],
      "text/plain": [
       "⎡d        ⎤\n",
       "⎢──(x(t)) ⎥\n",
       "⎢dt       ⎥\n",
       "⎢         ⎥\n",
       "⎢d        ⎥\n",
       "⎢──(vₓ(t))⎥\n",
       "⎣dt       ⎦"
      ]
     },
     "execution_count": 9,
     "metadata": {},
     "output_type": "execute_result"
    }
   ],
   "source": [
    "t = sympy.Symbol('t')\n",
    "model.x.diff(t)"
   ]
  },
  {
   "cell_type": "code",
   "execution_count": 10,
   "metadata": {},
   "outputs": [
    {
     "data": {
      "image/png": "[encoded data removed]",
      "text/latex": [
       "$$\\left \\{ \\operatorname{damper.f}{\\left (t \\right )} : - damper.c \\operatorname{v_{x}}{\\left (t \\right )}, \\quad \\operatorname{damper.v}{\\left (t \\right )} : \\operatorname{v_{x}}{\\left (t \\right )}, \\quad \\operatorname{spring.f}{\\left (t \\right )} : - spring.k x{\\left (t \\right )}, \\quad \\operatorname{spring.x}{\\left (t \\right )} : x{\\left (t \\right )}, \\quad \\frac{d}{d t} \\operatorname{v_{x}}{\\left (t \\right )} : - damper.c \\operatorname{v_{x}}{\\left (t \\right )} - spring.k x{\\left (t \\right )} - u{\\left (t \\right )}, \\quad \\frac{d}{d t} x{\\left (t \\right )} : \\operatorname{v_{x}}{\\left (t \\right )}\\right \\}$$"
      ],
      "text/plain": [
       "⎧                                                                             \n",
       "⎨damper.f(t): -damper.c⋅vₓ(t), damper.v(t): vₓ(t), spring.f(t): -spring.k⋅x(t)\n",
       "⎩                                                                             \n",
       "\n",
       "                     d                                                  d     \n",
       ", spring.x(t): x(t), ──(vₓ(t)): -damper.c⋅vₓ(t) - spring.k⋅x(t) - u(t), ──(x(t\n",
       "                     dt                                                 dt    \n",
       "\n",
       "         ⎫\n",
       ")): vₓ(t)⎬\n",
       "         ⎭"
      ]
     },
     "execution_count": 10,
     "metadata": {},
     "output_type": "execute_result"
    }
   ],
   "source": [
    "sol = sympy.solve(model.eqs, list(model.v) + list(model.x.diff(t)))\n",
    "sol"
   ]
  },
  {
   "cell_type": "code",
   "execution_count": 11,
   "metadata": {},
   "outputs": [
    {
     "data": {
      "image/png": "[encoded data removed]",
      "text/latex": [
       "$$\\left[\\begin{matrix}\\operatorname{v_{x}}{\\left (t \\right )}\\\\- damper.c \\operatorname{v_{x}}{\\left (t \\right )} - spring.k x{\\left (t \\right )} - u{\\left (t \\right )}\\end{matrix}\\right]$$"
      ],
      "text/plain": [
       "⎡                vₓ(t)                 ⎤\n",
       "⎢                                      ⎥\n",
       "⎣-damper.c⋅vₓ(t) - spring.k⋅x(t) - u(t)⎦"
      ]
     },
     "execution_count": 11,
     "metadata": {},
     "output_type": "execute_result"
    }
   ],
   "source": [
    "model.x.diff(t).subs(sol)"
   ]
  },
  {
   "cell_type": "code",
   "execution_count": 12,
   "metadata": {},
   "outputs": [
    {
     "data": {
      "image/png": "[encoded data removed]",
      "text/latex": [
       "$$\\left [ \\left[\\begin{matrix}0 & 1\\\\- spring.k & - damper.c\\end{matrix}\\right], \\quad \\left[\\begin{matrix}0\\\\-1\\end{matrix}\\right], \\quad \\left[\\begin{matrix}1 & 0\\\\0 & 1\\end{matrix}\\right], \\quad \\left[\\begin{matrix}0\\\\0\\end{matrix}\\right]\\right ]$$"
      ],
      "text/plain": [
       "⎡⎡    0          1    ⎤  ⎡0 ⎤  ⎡1  0⎤  ⎡0⎤⎤\n",
       "⎢⎢                    ⎥, ⎢  ⎥, ⎢    ⎥, ⎢ ⎥⎥\n",
       "⎣⎣-spring.k  -damper.c⎦  ⎣-1⎦  ⎣0  1⎦  ⎣0⎦⎦"
      ]
     },
     "execution_count": 12,
     "metadata": {},
     "output_type": "execute_result"
    }
   ],
   "source": [
    "model.linearize_symbolic()"
   ]
  },
  {
   "cell_type": "code",
   "execution_count": 13,
   "metadata": {},
   "outputs": [
    {
     "data": {
      "text/plain": [
       "A = [[ 0.   1. ]\n",
       " [-2.  -0.2]]\n",
       "\n",
       "B = [[ 0.]\n",
       " [-1.]]\n",
       "\n",
       "C = [[1. 0.]\n",
       " [0. 1.]]\n",
       "\n",
       "D = [[0.]\n",
       " [0.]]"
      ]
     },
     "execution_count": 13,
     "metadata": {},
     "output_type": "execute_result"
    }
   ],
   "source": [
    "ss = control.ss(*model.linearize())\n",
    "ss"
   ]
  },
  {
   "cell_type": "code",
   "execution_count": 14,
   "metadata": {},
   "outputs": [
    {
     "data": {
      "text/plain": [
       "\n",
       "Input 1 to output 1:\n",
       "      -1\n",
       "---------------\n",
       "s^2 + 0.2 s + 2\n",
       "\n",
       "Input 1 to output 2:\n",
       "      -s\n",
       "---------------\n",
       "s^2 + 0.2 s + 2"
      ]
     },
     "execution_count": 14,
     "metadata": {},
     "output_type": "execute_result"
    }
   ],
   "source": [
    "control.ss2tf(ss)"
   ]
  },
  {
   "cell_type": "code",
   "execution_count": 15,
   "metadata": {
    "scrolled": true
   },
   "outputs": [
    {
     "name": "stderr",
     "output_type": "stream",
     "text": [
      "/home/jgoppert/anaconda3/envs/phd/lib/python3.6/site-packages/control/freqplot.py:153: MatplotlibDeprecationWarning: pyplot.hold is deprecated.\n",
      "    Future behavior will be consistent with the long-time default:\n",
      "    plot commands add elements without first clearing the\n",
      "    Axes and/or Figure.\n",
      "  plt.hold(True);\n",
      "/home/jgoppert/anaconda3/envs/phd/lib/python3.6/site-packages/matplotlib/__init__.py:805: MatplotlibDeprecationWarning: axes.hold is deprecated. Please remove it from your matplotlibrc and/or style files.\n",
      "  mplDeprecation)\n",
      "/home/jgoppert/anaconda3/envs/phd/lib/python3.6/site-packages/matplotlib/rcsetup.py:155: MatplotlibDeprecationWarning: axes.hold is deprecated, will be removed in 3.0\n",
      "  mplDeprecation)\n",
      "/home/jgoppert/anaconda3/envs/phd/lib/python3.6/site-packages/control/freqplot.py:163: MatplotlibDeprecationWarning: pyplot.hold is deprecated.\n",
      "    Future behavior will be consistent with the long-time default:\n",
      "    plot commands add elements without first clearing the\n",
      "    Axes and/or Figure.\n",
      "  plt.hold(True);\n"
     ]
    },
    {
     "data": {
      "image/png": "[encoded data removed]",
      "text/plain": [
       "<matplotlib.figure.Figure at 0x7f2b1b870518>"
      ]
     },
     "metadata": {},
     "output_type": "display_data"
    }
   ],
   "source": [
    "control.bode(ss[0,0], omega=pl.logspace(-1,1,100));"
   ]
  },
  {
   "cell_type": "code",
   "execution_count": 31,
   "metadata": {},
   "outputs": [
    {
     "data": {
      "image/png": "[encoded data removed]",
      "text/plain": [
       "<Figure size 640x480 with 1 Axes>"
      ]
     },
     "metadata": {},
     "output_type": "display_data"
    }
   ],
   "source": [
    "control.rlocus(ss[0,0], kvect=pl.logspace(-2,1,1000));\n",
    "pl.grid()"
   ]
  },
  {
   "cell_type": "markdown",
   "metadata": {},
   "source": [
    "# Simulation of Sympy Model"
   ]
  },
  {
   "cell_type": "code",
   "execution_count": 17,
   "metadata": {},
   "outputs": [
    {
     "data": {
      "image/png": "[encoded data removed]",
      "text/latex": [
       "$$\\left[\\begin{matrix}\\operatorname{v_{x}}{\\left (t \\right )}\\\\- damper.c \\operatorname{v_{x}}{\\left (t \\right )} - spring.k x{\\left (t \\right )} - u{\\left (t \\right )}\\end{matrix}\\right]$$"
      ],
      "text/plain": [
       "⎡                vₓ(t)                 ⎤\n",
       "⎢                                      ⎥\n",
       "⎣-damper.c⋅vₓ(t) - spring.k⋅x(t) - u(t)⎦"
      ]
     },
     "execution_count": 17,
     "metadata": {},
     "output_type": "execute_result"
    }
   ],
   "source": [
    "model.f"
   ]
  },
  {
   "cell_type": "code",
   "execution_count": 18,
   "metadata": {},
   "outputs": [
    {
     "data": {
      "image/png": "[encoded data removed]",
      "text/latex": [
       "$$\\left \\{ \\operatorname{v_{x}}{\\left (t \\right )} : x[1], \\quad x{\\left (t \\right )} : x[0]\\right \\}$$"
      ],
      "text/plain": [
       "{vₓ(t): x[1], x(t): x[0]}"
      ]
     },
     "execution_count": 18,
     "metadata": {},
     "output_type": "execute_result"
    }
   ],
   "source": [
    "import sympy\n",
    "ss_sub = {}\n",
    "ss_sub.update({model.x[i]: sympy.DeferredVector('x')[i] for i in range(len(model.x))})\n",
    "#ss_sub.update({model.y[i]: sympy.DeferredVector('y')[i] for i in range(len(model.y))})\n",
    "ss_sub"
   ]
  },
  {
   "cell_type": "code",
   "execution_count": 19,
   "metadata": {},
   "outputs": [],
   "source": [
    "res = model.simulate(t0=10, tf=20, dt=0.001)"
   ]
  },
  {
   "cell_type": "code",
   "execution_count": 20,
   "metadata": {},
   "outputs": [
    {
     "data": {
      "text/plain": [
       "Text(0,0.5,'x')"
      ]
     },
     "execution_count": 20,
     "metadata": {},
     "output_type": "execute_result"
    },
    {
     "data": {
      "image/png": "[encoded data removed]",
      "text/plain": [
       "<matplotlib.figure.Figure at 0x7f2b185fb710>"
      ]
     },
     "metadata": {},
     "output_type": "display_data"
    }
   ],
   "source": [
    "pl.plot(res['t'], res['x'])\n",
    "pl.grid()\n",
    "pl.xlabel('t, sec')\n",
    "pl.ylabel('x')"
   ]
  },
  {
   "cell_type": "code",
   "execution_count": 21,
   "metadata": {},
   "outputs": [
    {
     "data": {
      "image/png": "[encoded data removed]",
      "text/latex": [
       "$$\\left[\\begin{matrix}\\operatorname{v_{x}}{\\left (t \\right )}\\\\- damper.c \\operatorname{v_{x}}{\\left (t \\right )} - spring.k x{\\left (t \\right )} - u{\\left (t \\right )}\\end{matrix}\\right]$$"
      ],
      "text/plain": [
       "⎡                vₓ(t)                 ⎤\n",
       "⎢                                      ⎥\n",
       "⎣-damper.c⋅vₓ(t) - spring.k⋅x(t) - u(t)⎦"
      ]
     },
     "execution_count": 21,
     "metadata": {},
     "output_type": "execute_result"
    }
   ],
   "source": [
    "sympy.init_printing()\n",
    "model.f"
   ]
  },
  {
   "cell_type": "code",
   "execution_count": 22,
   "metadata": {},
   "outputs": [
    {
     "data": {
      "image/png": "[encoded data removed]",
      "text/latex": [
       "$$\\left[\\begin{matrix}0 & 1\\\\- spring.k & - damper.c\\end{matrix}\\right]$$"
      ],
      "text/plain": [
       "⎡    0          1    ⎤\n",
       "⎢                    ⎥\n",
       "⎣-spring.k  -damper.c⎦"
      ]
     },
     "execution_count": 22,
     "metadata": {},
     "output_type": "execute_result"
    }
   ],
   "source": [
    "model.f.jacobian(model.x)"
   ]
  },
  {
   "cell_type": "markdown",
   "metadata": {},
   "source": [
    "# Lyapunov Stability"
   ]
  },
  {
   "cell_type": "markdown",
   "metadata": {},
   "source": [
    "Using the energy function as a candidate function, we can show that the system has global exponential stability (GES)."
   ]
  },
  {
   "cell_type": "code",
   "execution_count": 23,
   "metadata": {},
   "outputs": [
    {
     "data": {
      "image/png": "[encoded data removed]",
      "text/latex": [
       "$$V = \\frac{spring.k}{2} x^{2}{\\left (t \\right )} + \\frac{1}{2} \\operatorname{v_{x}}^{2}{\\left (t \\right )}$$"
      ],
      "text/plain": [
       "              2        2   \n",
       "    spring.k⋅x (t)   vₓ (t)\n",
       "V = ────────────── + ──────\n",
       "          2            2   "
      ]
     },
     "execution_count": 23,
     "metadata": {},
     "output_type": "execute_result"
    }
   ],
   "source": [
    "v_x, spring_k, t, V, x = sympy.symbols('v_x, spring.k, t, V, x')\n",
    "V_eq = (v_x(t)**2 + spring_k*x(t)**2)/2\n",
    "sympy.Eq(V, V_eq)"
   ]
  },
  {
   "cell_type": "code",
   "execution_count": 24,
   "metadata": {},
   "outputs": [
    {
     "data": {
      "image/png": "[encoded data removed]",
      "text/latex": [
       "$$\\frac{d}{d t} V{\\left (t \\right )} = - \\left(damper.c \\operatorname{v_{x}}{\\left (t \\right )} + u{\\left (t \\right )}\\right) \\operatorname{v_{x}}{\\left (t \\right )}$$"
      ],
      "text/plain": [
       "d                                        \n",
       "──(V(t)) = -(damper.c⋅vₓ(t) + u(t))⋅vₓ(t)\n",
       "dt                                       "
      ]
     },
     "execution_count": 24,
     "metadata": {},
     "output_type": "execute_result"
    }
   ],
   "source": [
    "dV_dt_eq = (sympy.Matrix([V_eq]).jacobian(model.x).dot(model.f)).simplify()\n",
    "sympy.Eq(V(t).diff(t), dV_dt_eq)"
   ]
  },
  {
   "cell_type": "code",
   "execution_count": 25,
   "metadata": {},
   "outputs": [
    {
     "data": {
      "image/png": "[encoded data removed]",
      "text/plain": [
       "<matplotlib.figure.Figure at 0x7f2b18636240>"
      ]
     },
     "metadata": {},
     "output_type": "display_data"
    }
   ],
   "source": [
    "V_lam = sympy.lambdify(model.x, V_eq.subs(model.p0))\n",
    "V_vals = [V_lam(*x) for x in res['x']]\n",
    "pl.plot(res['t'], V_vals)\n",
    "pl.xlabel('t')\n",
    "pl.ylabel('V')\n",
    "pl.grid()"
   ]
  },
  {
   "cell_type": "markdown",
   "metadata": {},
   "source": [
    "# Parameter Sensitivity"
   ]
  },
  {
   "cell_type": "code",
   "execution_count": 26,
   "metadata": {},
   "outputs": [
    {
     "data": {
      "image/png": "[encoded data removed]",
      "text/latex": [
       "$$\\left[\\begin{matrix}0 & 0\\\\- x{\\left (t \\right )} & - \\operatorname{v_{x}}{\\left (t \\right )}\\end{matrix}\\right]$$"
      ],
      "text/plain": [
       "⎡  0      0   ⎤\n",
       "⎢             ⎥\n",
       "⎣-x(t)  -vₓ(t)⎦"
      ]
     },
     "execution_count": 26,
     "metadata": {},
     "output_type": "execute_result"
    }
   ],
   "source": [
    "model.f.jacobian(model.p)"
   ]
  }
 ],
 "metadata": {
  "kernelspec": {
   "display_name": "Python 3",
   "language": "python",
   "name": "python3"
  },
  "language_info": {
   "codemirror_mode": {
    "name": "ipython",
    "version": 3
   },
   "file_extension": ".py",
   "mimetype": "text/x-python",
   "name": "python",
   "nbconvert_exporter": "python",
   "pygments_lexer": "ipython3",
   "version": "3.6.3"
  },
  "name": ""
 },
 "nbformat": 4,
 "nbformat_minor": 1
}
