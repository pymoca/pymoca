{
 "cells": [
  {
   "cell_type": "code",
   "execution_count": 1,
   "metadata": {},
   "outputs": [
    {
     "name": "stdout",
     "output_type": "stream",
     "text": [
      "\n",
      "******************************************************************************\n",
      "This program contains Ipopt, a library for large-scale nonlinear optimization.\n",
      " Ipopt is released as open source code under the Eclipse Public License (EPL).\n",
      "         For more information visit https://github.com/coin-or/Ipopt\n",
      "******************************************************************************\n",
      "\n",
      "This is Ipopt version 3.14.11, running with linear solver MUMPS 5.4.1.\n",
      "\n",
      "Number of nonzeros in equality constraint Jacobian...:       29\n",
      "Number of nonzeros in inequality constraint Jacobian.:        0\n",
      "Number of nonzeros in Lagrangian Hessian.............:        1\n",
      "\n",
      "Total number of variables............................:       20\n",
      "                     variables with only lower bounds:        0\n",
      "                variables with lower and upper bounds:       10\n",
      "                     variables with only upper bounds:        0\n",
      "Total number of equality constraints.................:       10\n",
      "Total number of inequality constraints...............:        0\n",
      "        inequality constraints with only lower bounds:        0\n",
      "   inequality constraints with lower and upper bounds:        0\n",
      "        inequality constraints with only upper bounds:        0\n",
      "\n",
      "iter    objective    inf_pr   inf_du lg(mu)  ||d||  lg(rg) alpha_du alpha_pr  ls\n",
      "   0  1.0000000e+00 1.00e-02 1.75e-01  -1.0 0.00e+00    -  0.00e+00 0.00e+00   0\n",
      "   1  8.6929583e-01 5.55e-17 1.03e-02  -1.0 1.01e-01    -  9.39e-01 1.00e+00f  1\n",
      "   2  3.3357878e-01 3.33e-16 1.62e-02  -1.7 1.41e+00    -  7.02e-01 1.00e+00f  1\n",
      "   3  1.0793001e-01 5.55e-16 2.11e-02  -2.5 6.11e-01    -  6.56e-01 1.00e+00f  1\n",
      "   4  3.1680767e-02 1.11e-15 1.11e-16  -2.5 4.92e-01    -  1.00e+00 1.00e+00f  1\n",
      "   5  6.8183109e-03 7.77e-16 2.43e-03  -3.8 2.15e-01    -  8.60e-01 1.00e+00f  1\n",
      "   6  1.1418229e-03 1.11e-15 1.11e-16  -3.8 1.49e-01    -  1.00e+00 1.00e+00f  1\n",
      "   7  6.7803447e-05 6.66e-16 1.73e-04  -5.7 7.15e-02    -  9.63e-01 1.00e+00f  1\n",
      "   8  8.2258868e-07 6.66e-16 3.14e-17  -5.7 2.15e-02    -  1.00e+00 1.00e+00f  1\n",
      "   9  2.6202735e-10 6.66e-16 6.07e-17  -7.0 2.74e-03    -  1.00e+00 1.00e+00f  1\n",
      "\n",
      "Number of Iterations....: 9\n",
      "\n",
      "                                   (scaled)                 (unscaled)\n",
      "Objective...............:   2.6202735175817607e-10    2.6202735175817607e-10\n",
      "Dual infeasibility......:   6.0742426713500386e-17    6.0742426713500386e-17\n",
      "Constraint violation....:   6.6613381477509392e-16    6.6613381477509392e-16\n",
      "Variable bound violation:   0.0000000000000000e+00    0.0000000000000000e+00\n",
      "Complementarity.........:   2.8411303641615552e-07    2.8411303641615552e-07\n",
      "Overall NLP error.......:   2.8411303641615552e-07    2.8411303641615552e-07\n",
      "\n",
      "\n",
      "Number of objective function evaluations             = 10\n",
      "Number of objective gradient evaluations             = 10\n",
      "Number of equality constraint evaluations            = 10\n",
      "Number of inequality constraint evaluations          = 0\n",
      "Number of equality constraint Jacobian evaluations   = 10\n",
      "Number of inequality constraint Jacobian evaluations = 0\n",
      "Number of Lagrangian Hessian evaluations             = 9\n",
      "Total seconds in IPOPT                               = 0.009\n",
      "\n",
      "EXIT: Optimal Solution Found.\n",
      "         nlp  :   t_proc      (avg)   t_wall      (avg)    n_eval\n",
      "       nlp_f  |  22.00us (  2.20us)  19.21us (  1.92us)        10\n",
      "       nlp_g  | 129.00us ( 12.90us)  99.79us (  9.98us)        10\n",
      "  nlp_grad_f  |  43.00us (  3.91us)  28.67us (  2.61us)        11\n",
      "  nlp_hess_l  | 162.00us ( 18.00us) 158.83us ( 17.65us)         9\n",
      "   nlp_jac_g  | 258.00us ( 23.45us) 265.33us ( 24.12us)        11\n",
      "       total  |   9.55ms (  9.55ms)   9.85ms (  9.85ms)         1\n"
     ]
    },
    {
     "data": {
      "text/plain": [
       "<matplotlib.legend.Legend at 0x114ea3700>"
      ]
     },
     "execution_count": 1,
     "metadata": {},
     "output_type": "execute_result"
    },
    {
     "data": {
      "image/png": "[encoded data removed]",
      "text/plain": [
       "<Figure size 640x480 with 1 Axes>"
      ]
     },
     "metadata": {},
     "output_type": "display_data"
    }
   ],
   "source": [
    "%matplotlib inline\n",
    "import casadi as ca\n",
    "import numpy as np\n",
    "from pylab import legend, plot\n",
    "\n",
    "from pymoca.backends.casadi.api import transfer_model\n",
    "\n",
    "model = transfer_model(\"../models/\", \"Exponential\", {})\n",
    "dae = model.dae_residual_function\n",
    "X0 = model.states[0].start\n",
    "\n",
    "# Discretization steps\n",
    "N = 10\n",
    "\n",
    "# Discretization time step\n",
    "dt = 0.1\n",
    "\n",
    "# Optimization variables and bounds\n",
    "X = ca.MX.sym(\"X\", N)\n",
    "lbX = np.full(N, -np.inf)\n",
    "ubX = np.full(N, np.inf)\n",
    "\n",
    "U = ca.MX.sym(\"U\", N)\n",
    "lbU = np.full(N, 0)\n",
    "ubU = np.full(N, 1.75)\n",
    "\n",
    "# Collocate DAE using backwards Euler method\n",
    "g = []\n",
    "i = 0\n",
    "res = dae(0, X[0], (X[0] - X0) / dt, U[0], U[i], ca.MX(), ca.MX())\n",
    "g.append(res)\n",
    "for i in range(1, N):\n",
    "    res = dae(i * dt, X[i], (X[i] - X[i - 1]) / dt, ca.MX(), U[i], ca.MX(), ca.MX())\n",
    "    g.append(res)\n",
    "\n",
    "# Optimization objective\n",
    "f = (X[-1] - 1.0) ** 2\n",
    "\n",
    "# Solve NLP\n",
    "nlp = {\"x\": ca.vertcat(X, U), \"f\": f, \"g\": ca.vertcat(*g)}\n",
    "ipopt_options = {\"tol\": 1e-6}\n",
    "solver = ca.nlpsol(\"nlp\", \"ipopt\", nlp, {\"ipopt\": ipopt_options})\n",
    "solution = solver(lbx=ca.vertcat(lbX, lbU), ubx=ca.vertcat(ubX, ubU), lbg=0, ubg=0)\n",
    "\n",
    "# Plot solution\n",
    "T = np.linspace(0, N * dt, N + 1)\n",
    "X = solution[\"x\"][0:N]\n",
    "U = solution[\"x\"][N : 2 * N]\n",
    "plot(T, ca.vertcat(X0, X), label=\"$x$\")\n",
    "plot(T[1:], U, label=\"$u$\")\n",
    "legend()"
   ]
  },
  {
   "cell_type": "code",
   "execution_count": null,
   "metadata": {},
   "outputs": [],
   "source": []
  }
 ],
 "metadata": {
  "kernelspec": {
   "display_name": "Python 3 (ipykernel)",
   "language": "python",
   "name": "python3"
  },
  "language_info": {
   "codemirror_mode": {
    "name": "ipython",
    "version": 3
   },
   "file_extension": ".py",
   "mimetype": "text/x-python",
   "name": "python",
   "nbconvert_exporter": "python",
   "pygments_lexer": "ipython3",
   "version": "3.9.21"
  }
 },
 "nbformat": 4,
 "nbformat_minor": 4
}
