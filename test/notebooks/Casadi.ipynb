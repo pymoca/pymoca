{
 "cells": [
  {
   "cell_type": "code",
   "execution_count": 46,
   "metadata": {
    "scrolled": false
   },
   "outputs": [
    {
     "name": "stdout",
     "output_type": "stream",
     "text": [
      "This is Ipopt version 3.12.3, running with linear solver mumps.\n",
      "NOTE: Other linear solvers might be more efficient (see Ipopt documentation).\n",
      "\n",
      "Number of nonzeros in equality constraint Jacobian...:       29\n",
      "Number of nonzeros in inequality constraint Jacobian.:        0\n",
      "Number of nonzeros in Lagrangian Hessian.............:        1\n",
      "\n",
      "Total number of variables............................:       20\n",
      "                     variables with only lower bounds:        0\n",
      "                variables with lower and upper bounds:       10\n",
      "                     variables with only upper bounds:        0\n",
      "Total number of equality constraints.................:       10\n",
      "Total number of inequality constraints...............:        0\n",
      "        inequality constraints with only lower bounds:        0\n",
      "   inequality constraints with lower and upper bounds:        0\n",
      "        inequality constraints with only upper bounds:        0\n",
      "\n",
      "iter    objective    inf_pr   inf_du lg(mu)  ||d||  lg(rg) alpha_du alpha_pr  ls\n",
      "   0  1.0000000e+00 1.00e-02 2.27e-01  -1.0 0.00e+00    -  0.00e+00 0.00e+00   0\n",
      "   1  8.6905372e-01 9.71e-17 2.91e-02  -1.0 1.01e-01    -  8.79e-01 1.00e+00f  1\n",
      "   2  4.0522394e-01 3.33e-16 1.83e-02  -1.7 1.47e+00    -  6.15e-01 1.00e+00f  1\n",
      "   3  1.6536036e-01 6.66e-16 3.76e-02  -2.5 8.01e-01    -  5.17e-01 1.00e+00f  1\n",
      "   4  5.3403466e-02 1.33e-15 1.46e-02  -2.5 4.54e-01    -  8.24e-01 1.00e+00f  1\n",
      "   5  1.3594078e-02 5.55e-16 7.42e-03  -3.8 3.95e-01    -  8.32e-01 1.00e+00f  1\n",
      "   6  2.6966530e-03 8.88e-16 9.71e-17  -3.8 1.97e-01    -  1.00e+00 1.00e+00f  1\n",
      "   7  3.3883919e-04 8.88e-16 1.04e-16  -3.8 5.61e-01    -  1.00e+00 1.00e+00f  1\n",
      "   8  1.0338316e-05 8.88e-16 6.67e-05  -5.7 4.36e-02    -  9.83e-01 1.00e+00f  1\n",
      "   9  5.2031008e-08 1.11e-15 3.68e-17  -5.7 9.84e-03    -  1.00e+00 1.00e+00f  1\n",
      "iter    objective    inf_pr   inf_du lg(mu)  ||d||  lg(rg) alpha_du alpha_pr  ls\n",
      "  10  3.1885685e-11 9.99e-16 4.94e-17  -7.0 1.35e-03    -  1.00e+00 1.00e+00h  1\n",
      "\n",
      "Number of Iterations....: 10\n",
      "\n",
      "                                   (scaled)                 (unscaled)\n",
      "Objective...............:   3.1885684628346274e-11    3.1885684628346274e-11\n",
      "Dual infeasibility......:   4.9378632693136693e-17    4.9378632693136693e-17\n",
      "Constraint violation....:   9.9920072216264089e-16    9.9920072216264089e-16\n",
      "Complementarity.........:   1.1917833172249889e-07    1.1917833172249889e-07\n",
      "Overall NLP error.......:   1.1917833172249889e-07    1.1917833172249889e-07\n",
      "\n",
      "\n",
      "Number of objective function evaluations             = 11\n",
      "Number of objective gradient evaluations             = 11\n",
      "Number of equality constraint evaluations            = 11\n",
      "Number of inequality constraint evaluations          = 0\n",
      "Number of equality constraint Jacobian evaluations   = 11\n",
      "Number of inequality constraint Jacobian evaluations = 0\n",
      "Number of Lagrangian Hessian evaluations             = 10\n",
      "Total CPU secs in IPOPT (w/o function evaluations)   =      0.009\n",
      "Total CPU secs in NLP function evaluations           =      0.002\n",
      "\n",
      "EXIT: Optimal Solution Found.\n",
      "                   proc           wall      num           mean             mean\n",
      "                   time           time     evals       proc time        wall time\n",
      "        nlp_f     0.000 [s]      0.000 [s]    11       0.00 [ms]        0.00 [ms]\n",
      "        nlp_g     0.000 [s]      0.000 [s]    11       0.02 [ms]        0.02 [ms]\n",
      "   nlp_grad_f     0.000 [s]      0.000 [s]    12       0.01 [ms]        0.01 [ms]\n",
      "    nlp_jac_g     0.001 [s]      0.001 [s]    12       0.08 [ms]        0.09 [ms]\n",
      "   nlp_hess_l     0.001 [s]      0.001 [s]    10       0.05 [ms]        0.05 [ms]\n",
      " all previous     0.002 [s]      0.002 [s]\n",
      "callback_prep     0.000 [s]      0.000 [s]    11       0.01 [ms]        0.01 [ms]\n",
      "       solver     0.013 [s]      0.012 [s]\n",
      "     mainloop     0.015 [s]      0.014 [s]\n",
      "[ 0.   0.1  0.2  0.3  0.4  0.5  0.6  0.7  0.8  0.9  1. ]\n"
     ]
    },
    {
     "data": {
      "text/plain": [
       "<matplotlib.legend.Legend at 0x109e342b0>"
      ]
     },
     "execution_count": 46,
     "metadata": {},
     "output_type": "execute_result"
    },
    {
     "data": {
      "image/png": "[encoded data removed]",
      "text/plain": [
       "<matplotlib.figure.Figure at 0x109adbcc0>"
      ]
     },
     "metadata": {},
     "output_type": "display_data"
    }
   ],
   "source": [
    "from pymola.backends.casadi.api import transfer_model\n",
    "import numpy as np\n",
    "import casadi as ca\n",
    "from pylab import plot, hold, legend\n",
    "\n",
    "model = transfer_model('.', 'Exponential', {})\n",
    "dae = model.dae_residual_function\n",
    "X0 = model.states[0].start\n",
    "\n",
    "# Discretization steps\n",
    "N = 10\n",
    "\n",
    "# Discretization time step\n",
    "dt = 0.1\n",
    "\n",
    "# Optimization variables and bounds\n",
    "X = MX.sym('X', N)\n",
    "lbX = np.full(N, -np.inf)\n",
    "ubX = np.full(N, np.inf)\n",
    "\n",
    "U = MX.sym('U', N)\n",
    "lbU = np.full(N, 0)\n",
    "ubU = np.full(N, 1.75)\n",
    "\n",
    "# Collocate DAE using backwards Euler method\n",
    "g = []\n",
    "res = dae(0, X[0], (X[0] - X0) / dt, U[0], U[i], MX(), MX())\n",
    "g.append(res)\n",
    "for i in range(1, N):\n",
    "    res = dae(i * dt, X[i], (X[i] - X[i - 1]) / dt, MX(), U[i], MX(), MX())\n",
    "    g.append(res)\n",
    "    \n",
    "# Optimization objective\n",
    "f = (X[-1] - 1.0)**2\n",
    "\n",
    "# Solve NLP\n",
    "nlp = {'x': vertcat(X, U), 'f': f, 'g': vertcat(*g)}\n",
    "ipopt_options = {'tol': 1e-6}\n",
    "solver = ca.nlpsol('nlp', 'ipopt', nlp, {'ipopt': ipopt_options})\n",
    "solution = solver(lbx=vertcat(lbX, lbU), ubx=vertcat(ubX, ubU), lbg=0, ubg=0)\n",
    "\n",
    "# Plot solution\n",
    "T = np.linspace(0, N * dt, N + 1)\n",
    "X = solution['x'][0:N]\n",
    "U = solution['x'][N:2*N]\n",
    "plot(T, vertcat(X0, X), label=\"$x$\")\n",
    "plot(T[1:], U, label=\"$u$\")\n",
    "legend()"
   ]
  }
 ],
 "metadata": {
  "kernelspec": {
   "display_name": "Python 3",
   "language": "python",
   "name": "python3"
  },
  "language_info": {
   "codemirror_mode": {
    "name": "ipython",
    "version": 3
   },
   "file_extension": ".py",
   "mimetype": "text/x-python",
   "name": "python",
   "nbconvert_exporter": "python",
   "pygments_lexer": "ipython3",
   "version": "3.6.1"
  }
 },
 "nbformat": 4,
 "nbformat_minor": 2
}
