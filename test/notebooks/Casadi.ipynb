{
 "cells": [
  {
   "cell_type": "code",
   "execution_count": 9,
   "metadata": {
    "scrolled": false
   },
   "outputs": [
    {
     "name": "stdout",
     "output_type": "stream",
     "text": [
      "This is Ipopt version 3.11.9, running with linear solver mumps.\n",
      "NOTE: Other linear solvers might be more efficient (see Ipopt documentation).\n",
      "\n",
      "Number of nonzeros in equality constraint Jacobian...:       29\n",
      "Number of nonzeros in inequality constraint Jacobian.:        0\n",
      "Number of nonzeros in Lagrangian Hessian.............:        1\n",
      "\n",
      "Total number of variables............................:       20\n",
      "                     variables with only lower bounds:        0\n",
      "                variables with lower and upper bounds:       10\n",
      "                     variables with only upper bounds:        0\n",
      "Total number of equality constraints.................:       10\n",
      "Total number of inequality constraints...............:        0\n",
      "        inequality constraints with only lower bounds:        0\n",
      "   inequality constraints with lower and upper bounds:        0\n",
      "        inequality constraints with only upper bounds:        0\n",
      "\n",
      "iter    objective    inf_pr   inf_du lg(mu)  ||d||  lg(rg) alpha_du alpha_pr  ls\n",
      "   0  1.0000000e+00 1.00e-02 1.75e-01  -1.0 0.00e+00    -  0.00e+00 0.00e+00   0\n",
      "   1  8.6929583e-01 5.55e-17 1.03e-02  -1.0 1.01e-01    -  9.39e-01 1.00e+00f  1\n",
      "   2  3.3357878e-01 4.44e-16 1.62e-02  -1.7 1.41e+00    -  7.02e-01 1.00e+00f  1\n",
      "   3  1.0793001e-01 4.44e-16 2.11e-02  -2.5 6.11e-01    -  6.56e-01 1.00e+00f  1\n",
      "   4  3.1680767e-02 8.88e-16 1.11e-16  -2.5 4.92e-01    -  1.00e+00 1.00e+00f  1\n",
      "   5  6.8183109e-03 8.88e-16 2.43e-03  -3.8 2.15e-01    -  8.60e-01 1.00e+00f  1\n",
      "   6  1.1418229e-03 6.66e-16 5.55e-17  -3.8 1.49e-01    -  1.00e+00 1.00e+00f  1\n",
      "   7  6.7803447e-05 5.55e-16 1.73e-04  -5.7 7.15e-02    -  9.63e-01 1.00e+00f  1\n",
      "   8  8.2258868e-07 7.77e-16 3.14e-17  -5.7 2.15e-02    -  1.00e+00 1.00e+00f  1\n",
      "   9  2.6202735e-10 5.55e-16 6.10e-17  -7.0 2.74e-03    -  1.00e+00 1.00e+00f  1\n",
      "\n",
      "Number of Iterations....: 9\n",
      "\n",
      "                                   (scaled)                 (unscaled)\n",
      "Objective...............:   2.6202735175817607e-10    2.6202735175817607e-10\n",
      "Dual infeasibility......:   6.1040582310933900e-17    6.1040582310933900e-17\n",
      "Constraint violation....:   5.5511151231257827e-16    5.5511151231257827e-16\n",
      "Complementarity.........:   2.8411303641615059e-07    2.8411303641615059e-07\n",
      "Overall NLP error.......:   2.8411303641615059e-07    2.8411303641615059e-07\n",
      "\n",
      "\n",
      "Number of objective function evaluations             = 10\n",
      "Number of objective gradient evaluations             = 10\n",
      "Number of equality constraint evaluations            = 10\n",
      "Number of inequality constraint evaluations          = 0\n",
      "Number of equality constraint Jacobian evaluations   = 10\n",
      "Number of inequality constraint Jacobian evaluations = 0\n",
      "Number of Lagrangian Hessian evaluations             = 9\n",
      "Total CPU secs in IPOPT (w/o function evaluations)   =      0.003\n",
      "Total CPU secs in NLP function evaluations           =      0.002\n",
      "\n",
      "EXIT: Optimal Solution Found.\n",
      "               t_proc [s]   t_wall [s]    n_eval\n",
      "         nlp      0.00722      0.00656         1\n",
      "       nlp_f      2.4e-05     2.39e-05        10\n",
      "       nlp_g     0.000247     0.000244        10\n",
      "  nlp_grad_f      5.8e-05     5.66e-05        11\n",
      "  nlp_hess_l     0.000452     0.000452         9\n",
      "   nlp_jac_g      0.00096     0.000926        11\n"
     ]
    },
    {
     "data": {
      "image/png": "[encoded data removed]",
      "text/plain": [
       "<matplotlib.figure.Figure at 0x7fd38f6655f8>"
      ]
     },
     "metadata": {},
     "output_type": "display_data"
    }
   ],
   "source": [
    "%matplotlib inline\n",
    "import matplotlib.pyplot as plt\n",
    "from pymola.backends.casadi.api import transfer_model\n",
    "import numpy as np\n",
    "import casadi as ca\n",
    "\n",
    "model = transfer_model('../models/', 'Exponential', {})\n",
    "dae = model.dae_residual_function\n",
    "X0 = model.states[0].start\n",
    "\n",
    "# Discretization steps\n",
    "N = 10\n",
    "\n",
    "# Discretization time step\n",
    "dt = 0.1\n",
    "\n",
    "# Optimization variables and bounds\n",
    "X = ca.MX.sym('X', N)\n",
    "lbX = np.full(N, -np.inf)\n",
    "ubX = np.full(N, np.inf)\n",
    "\n",
    "U = ca.MX.sym('U', N)\n",
    "lbU = np.full(N, 0)\n",
    "ubU = np.full(N, 1.75)\n",
    "\n",
    "# Collocate DAE using backwards Euler method\n",
    "g = []\n",
    "i = 0\n",
    "res = dae(0, X[0], (X[0] - X0) / dt, U[0], U[i], ca.MX(), ca.MX())\n",
    "g.append(res)\n",
    "for i in range(1, N):\n",
    "    res = dae(i * dt, X[i], (X[i] - X[i - 1]) / dt, ca.MX(), U[i], ca.MX(), ca.MX())\n",
    "    g.append(res)\n",
    "    \n",
    "# Optimization objective\n",
    "f = (X[-1] - 1.0)**2\n",
    "\n",
    "# Solve NLP\n",
    "nlp = {'x': ca.vertcat(X, U), 'f': f, 'g': ca.vertcat(*g)}\n",
    "ipopt_options = {'tol': 1e-6}\n",
    "solver = ca.nlpsol('nlp', 'ipopt', nlp, {'ipopt': ipopt_options})\n",
    "solution = solver(lbx=ca.vertcat(lbX, lbU), ubx=ca.vertcat(ubX, ubU), lbg=0, ubg=0)\n",
    "\n",
    "# Plot solution\n",
    "T = np.linspace(0, N * dt, N + 1)\n",
    "X = solution['x'][0:N]\n",
    "U = solution['x'][N:2*N]\n",
    "plt.plot(T, ca.vertcat(X0, X), label=\"$x$\")\n",
    "plt.plot(T[1:], U, label=\"$u$\")\n",
    "plt.legend()\n",
    "plt.grid()"
   ]
  },
  {
   "cell_type": "code",
   "execution_count": 2,
   "metadata": {},
   "outputs": [],
   "source": [
    "from pymola.backends.casadi.generator import generate\n",
    "from pymola.parser import parse"
   ]
  },
  {
   "cell_type": "code",
   "execution_count": 3,
   "metadata": {},
   "outputs": [
    {
     "name": "stdout",
     "output_type": "stream",
     "text": [
      "ns = 3, nx = 0, nz = 0, nq = 0, ny = 0, np = 0, nd = 0, nu = 2\n",
      "Variables\n",
      "  t = t\n",
      "  s = [theta, x1, x2]\n",
      "  u =  [omega, v]\n",
      "Fully-implicit differential-algebraic equations\n",
      "  0 == (der_theta-omega)\n",
      "  0 == (der_x1-((v*cos(theta))+(0.01*der_x2)))\n",
      "  0 == (der_x2-(((v*sin(theta))+(0.01*der_x1))+(0.001*der_theta)))\n"
     ]
    }
   ],
   "source": [
    "model = generate(parse(\"\"\"\n",
    "model Car\n",
    "    input Real v, omega;\n",
    "    Real theta, x1, x2;\n",
    "equation\n",
    "    der(theta) = omega;\n",
    "    der(x1) = v*cos(theta) + 0.01*der(x2);\n",
    "    der(x2) = v*sin(theta) + 0.01*der(x1) + 0.001*der(theta);\n",
    "end Car;\n",
    "\"\"\"), \"Car\")\n",
    "model.dae.disp(True)"
   ]
  },
  {
   "cell_type": "code",
   "execution_count": 4,
   "metadata": {},
   "outputs": [
    {
     "name": "stdout",
     "output_type": "stream",
     "text": [
      "ns = 0, nx = 3, nz = 0, nq = 0, ny = 0, np = 0, nd = 0, nu = 2\n",
      "Variables\n",
      "  t = t\n",
      "  x = [theta, x1, x2]\n",
      "  u =  [omega, v]\n",
      "Differential equations\n",
      "  der_theta == @1=vertsplit(ones(3x1,1nz)){0}, @2=vertsplit(ones(3x1,1nz)){1}, @3=vertsplit(ones(3x1,1nz)){2}, ((((((zeros(3x3,6nz)[:6:3] += vertcat(@1, 00, (-(0.001*@1)))[:2])[1:7:3] = zeros(2x1))[1:7:3] += vertcat(00, @2, (-(0.01*@2)))[:2])[2:8:3] = zeros(2x1))[2:8:3] += vertcat(00, (-(0.01*@3)), @3)[:2])'[0]\\omega)\n",
      "  der_x1 == @1=0.001, @2=vertsplit(ones(3x1,1nz)){0}, @3=vertsplit(ones(3x1,1nz)){1}, @4=vertsplit(ones(3x1,1nz)){2}, @5=(((((zeros(3x3,6nz)[:6:3] += vertcat(@2, 00, (-(@1*@2)))[:2])[1:7:3] = zeros(2x1))[1:7:3] += vertcat(00, @3, (-(0.01*@3)))[:2])[2:8:3] = zeros(2x1))[2:8:3] += vertcat(00, (-(0.01*@4)), @4)[:2])', vertsplit((@5[2:6]\\(-vertcat((-(v*cos(theta))), (-((v*sin(theta))+(@1*(@5[0]\\omega)))))))){0}\n",
      "  der_x2 == @1=0.001, @2=vertsplit(ones(3x1,1nz)){0}, @3=vertsplit(ones(3x1,1nz)){1}, @4=vertsplit(ones(3x1,1nz)){2}, @5=(((((zeros(3x3,6nz)[:6:3] += vertcat(@2, 00, (-(@1*@2)))[:2])[1:7:3] = zeros(2x1))[1:7:3] += vertcat(00, @3, (-(0.01*@3)))[:2])[2:8:3] = zeros(2x1))[2:8:3] += vertcat(00, (-(0.01*@4)), @4)[:2])', vertsplit((@5[2:6]\\(-vertcat((-(v*cos(theta))), (-((v*sin(theta))+(@1*(@5[0]\\omega)))))))){1}\n"
     ]
    }
   ],
   "source": [
    "model.dae.make_explicit()\n",
    "model.dae.disp(True)"
   ]
  },
  {
   "cell_type": "code",
   "execution_count": 5,
   "metadata": {},
   "outputs": [],
   "source": [
    "model.dae.set_start('x1', 1)"
   ]
  },
  {
   "cell_type": "code",
   "execution_count": 6,
   "metadata": {},
   "outputs": [],
   "source": [
    "def sim(dae, f_p, dt=0.1, t0=0, tf=10):\n",
    "    x0 = np.array(dae.start(ca.vertcat(*dae.x)))\n",
    "    integ = ca.integrator('Phi', 'cvodes', {\n",
    "        't': dae.t,\n",
    "        'x': ca.vertcat(*dae.x),\n",
    "         'p': ca.vertcat(*dae.p, *dae.u),\n",
    "        'ode': ca.vertcat(*dae.ode)}, {\"tf\": dt})\n",
    "    data = {'x': [], 't': []}\n",
    "    x = x0\n",
    "    t = t0\n",
    "    while t + dt < tf:\n",
    "        data['t'].append(t)\n",
    "        data['x'].append(x)\n",
    "        t += dt\n",
    "        x = np.array(integ(x0=x, p=f_p(t, x))[\"xf\"])[:, 0]\n",
    "\n",
    "    for k in data.keys():\n",
    "        data[k] = np.array(data[k])\n",
    "    return data"
   ]
  },
  {
   "cell_type": "code",
   "execution_count": 7,
   "metadata": {},
   "outputs": [
    {
     "data": {
      "image/png": "[encoded data removed]",
      "text/plain": [
       "<matplotlib.figure.Figure at 0x7fd3c03a3c50>"
      ]
     },
     "metadata": {},
     "output_type": "display_data"
    }
   ],
   "source": [
    "data = sim(model.dae, lambda t, x: [1, 1], tf=100)\n",
    "plt.plot(data['t'], data['x'])\n",
    "plt.grid()"
   ]
  },
  {
   "cell_type": "code",
   "execution_count": 8,
   "metadata": {},
   "outputs": [
    {
     "data": {
      "image/png": "[encoded data removed]",
      "text/plain": [
       "<matplotlib.figure.Figure at 0x7fd3c039cfd0>"
      ]
     },
     "metadata": {},
     "output_type": "display_data"
    }
   ],
   "source": [
    "plt.plot(data['x'][:,1], data['x'][:,2])\n",
    "plt.grid()"
   ]
  }
 ],
 "metadata": {
  "kernelspec": {
   "display_name": "Python 3",
   "language": "python",
   "name": "python3"
  },
  "language_info": {
   "codemirror_mode": {
    "name": "ipython",
    "version": 3
   },
   "file_extension": ".py",
   "mimetype": "text/x-python",
   "name": "python",
   "nbconvert_exporter": "python",
   "pygments_lexer": "ipython3",
   "version": "3.6.3"
  }
 },
 "nbformat": 4,
 "nbformat_minor": 2
}
